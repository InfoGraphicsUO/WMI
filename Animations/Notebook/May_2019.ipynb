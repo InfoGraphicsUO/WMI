{
 "cells": [
  {
   "cell_type": "code",
   "execution_count": 1,
   "metadata": {},
   "outputs": [],
   "source": [
    "#Change extensions of dat files\n",
    "import os\n",
    "for day in range(1, 32, 1):\n",
    "    if day < 10:\n",
    "        day_str = \"0\" + str(day)\n",
    "    else:\n",
    "        day_str = str(day)\n",
    "    my_file = r\"\\\\cas-fs-geog\\InfoGraphics\\Projects\\AtlasWyoming\\Animation\\Mapbox_Animations\\Script_based\\data\\NOAA_masked_2019\\05_May\\us_ssmv11036tS__T0001TTNATS201905\" + day_str + \"05HP001.dat\"\n",
    "    base = os.path.splitext(my_file)[0]\n",
    "    os.rename(my_file, base + '.bil')"
   ]
  },
  {
   "cell_type": "code",
   "execution_count": 2,
   "metadata": {},
   "outputs": [],
   "source": [
    "#Bringing Binary Raster Files\n",
    "for day in range(1, 32, 1):\n",
    "    if day < 10:\n",
    "        day_str = \"0\" + str(day)\n",
    "    else:\n",
    "        day_str = str(day)\n",
    "    file_name = r\"\\\\cas-fs-geog\\InfoGraphics\\Projects\\AtlasWyoming\\Animation\\Mapbox_Animations\\Script_based\\data\\NOAA_masked_2019\\05_May\\us_ssmv11036tS__T0001TTNATS201905\" + day_str + \"05HP001.txt\"\n",
    "    f = open(file_name, \"w\")\n",
    "    f.write(\"byteorder M\\nlayout bil\\nnbands 1\\nnbits 16\\nncols 6935\\nnrows 3351\\nulxmap -124.729166666662\\nulymap 52.8708333333312\\nxdim 0.00833333333333300\\nydim 0.00833333333333300\")\n",
    "    f.close()"
   ]
  },
  {
   "cell_type": "code",
   "execution_count": 3,
   "metadata": {},
   "outputs": [],
   "source": [
    "#Change extensions of txt files\n",
    "import os\n",
    "for day in range(1, 32, 1):\n",
    "    if day < 10:\n",
    "        day_str = \"0\" + str(day)\n",
    "    else:\n",
    "        day_str = str(day)\n",
    "    my_file = r\"\\\\cas-fs-geog\\InfoGraphics\\Projects\\AtlasWyoming\\Animation\\Mapbox_Animations\\Script_based\\data\\NOAA_masked_2019\\05_May\\us_ssmv11036tS__T0001TTNATS201905\" + day_str + \"05HP001.txt\"\n",
    "    base = os.path.splitext(my_file)[0]\n",
    "    os.rename(my_file, base + '.hdr')"
   ]
  },
  {
   "cell_type": "code",
   "execution_count": 4,
   "metadata": {},
   "outputs": [],
   "source": [
    "#Import Data\n",
    "for day in range(1, 32, 1):\n",
    "    if day < 10:\n",
    "        day_str = \"0\" + str(day)\n",
    "    else:\n",
    "        day_str = str(day)\n",
    "    input_name = r\"\\\\cas-fs-geog\\InfoGraphics\\Projects\\AtlasWyoming\\Animation\\Mapbox_Animations\\Script_based\\data\\NOAA_masked_2019\\05_May\\us_ssmv11036tS__T0001TTNATS201905\" + day_str + \"05HP001.bil\"\n",
    "    output_name = r\"\\\\cas-fs-geog\\InfoGraphics\\Projects\\AtlasWyoming\\Animation\\Mapbox_Animations\\Script_based\\data\\NOAA_masked_2019\\Exported_GIF_05\" + day_str + \"SnowDepth.gif\"\n",
    "    data1 = input_name\n",
    "\n",
    "    #Build Pyramids\n",
    "    arcpy.management.BuildPyramids(\n",
    "        in_raster_dataset= data1,\n",
    "        pyramid_level=-1,\n",
    "        SKIP_FIRST=\"NONE\",\n",
    "        resample_technique=\"NEAREST\",\n",
    "        compression_type=\"DEFAULT\",\n",
    "        compression_quality=75,\n",
    "        skip_existing=\"OVERWRITE\"\n",
    "    )\n",
    "\n",
    "    #Export Raster Data\n",
    "\n",
    "    with arcpy.EnvManager(extent='-120 40 -100 50 PROJCS[\"WGS_1984_Web_Mercator_Auxiliary_Sphere\",GEOGCS[\"GCS_WGS_1984\",DATUM[\"D_WGS_1984\",SPHEROID[\"WGS_1984\",6378137.0,298.257223563]],PRIMEM[\"Greenwich\",0.0],UNIT[\"Degree\",0.0174532925199433]],PROJECTION[\"Mercator_Auxiliary_Sphere\"],PARAMETER[\"False_Easting\",0.0],PARAMETER[\"False_Northing\",0.0],PARAMETER[\"Central_Meridian\",0.0],PARAMETER[\"Standard_Parallel_1\",0.0],PARAMETER[\"Auxiliary_Sphere_Type\",0.0],UNIT[\"Meter\",1.0]]'):\n",
    "        arcpy.management.CopyRaster(\n",
    "            in_raster= data1,\n",
    "            out_rasterdataset=output_name,\n",
    "            config_keyword=\"\",\n",
    "            background_value=None,\n",
    "            nodata_value=\"-99999\",\n",
    "            onebit_to_eightbit=\"NONE\",\n",
    "            colormap_to_RGB=\"NONE\",\n",
    "            pixel_type=\"8_BIT_UNSIGNED\",\n",
    "            scale_pixel_value=\"NONE\",\n",
    "            RGB_to_Colormap=\"NONE\",\n",
    "            format=\"GIF\",\n",
    "            transform=\"NONE\",\n",
    "            process_as_multidimensional=\"CURRENT_SLICE\",\n",
    "            build_multidimensional_transpose=\"NO_TRANSPOSE\"\n",
    "        )\n",
    "    \n"
   ]
  },
  {
   "cell_type": "code",
   "execution_count": null,
   "metadata": {},
   "outputs": [],
   "source": []
  }
 ],
 "metadata": {
  "kernelspec": {
   "display_name": "ArcGISPro",
   "language": "Python",
   "name": "python3"
  },
  "language_info": {
   "file_extension": ".py",
   "name": "python",
   "version": "3"
  }
 },
 "nbformat": 4,
 "nbformat_minor": 2
}
